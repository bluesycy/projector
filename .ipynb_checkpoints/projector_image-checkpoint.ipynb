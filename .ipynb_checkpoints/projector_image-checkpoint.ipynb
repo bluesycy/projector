{
 "cells": [
  {
   "cell_type": "code",
   "execution_count": 1,
   "id": "f342ae7c-4537-4e5f-be4c-aaeb3a21b7c3",
   "metadata": {},
   "outputs": [],
   "source": [
    "import pygame\n",
    "import zmq\n",
    "import os\n",
    "import threading\n",
    "import numpy as np\n",
    "import matplotlib.pyplot as plt"
   ]
  },
  {
   "cell_type": "code",
   "execution_count": 2,
   "id": "0d0c519b-9ac0-4c3b-83d9-0504401f16f1",
   "metadata": {},
   "outputs": [],
   "source": [
    "\n",
    "def process_event(event):\n",
    "    if event.type == pygame.KEYDOWN:\n",
    "        if event.key == pygame.K_ESCAPE:\n",
    "            return False\n",
    "    elif event.type == pygame.QUIT:\n",
    "        return False\n",
    "    return True\n",
    "\n",
    "def display_loop(screen, screen_width, screen_height, speed, stripe_width, gap_width):\n",
    "    global mode\n",
    "    offset = 0\n",
    "\n",
    "    while True:\n",
    "        for event in pygame.event.get():\n",
    "            if not process_event(event):\n",
    "                return\n",
    "\n",
    "        if mode == DISPLAY_GRAY:\n",
    "            screen.fill((128, 128, 128))\n",
    "        else:\n",
    "            offset += speed if mode == MOVE_RIGHT else -speed\n",
    "            draw_moving_stripes(screen, screen_width, screen_height, offset, stripe_width, gap_width)\n",
    "\n",
    "        pygame.display.flip()\n",
    "\n",
    "def draw_moving_stripes(screen, screen_width, screen_height, offset, stripe_width, gap_width):\n",
    "    screen.fill((255, 255, 255))\n",
    "    stripe_color = (0, 0, 0)\n",
    "    total_width = stripe_width + gap_width\n",
    "\n",
    "    for x in range(int(offset % total_width - total_width) + int(np.floor(screen_width/8)), int(np.floor(7*screen_width/8)), total_width):\n",
    "        pygame.draw.rect(screen, stripe_color, (x, 1*screen_height/8, stripe_width, 5*screen_height/8))\n",
    "\n",
    "# def socket_server(port):\n",
    "#     global mode\n",
    "\n",
    "#     server_socket = socket.socket(socket.AF_INET, socket.SOCK_STREAM)\n",
    "#     server_socket.bind(('', port))\n",
    "#     server_socket.listen(1)\n",
    "\n",
    "#     #print(f\"Server listening on port {port}. Waiting for movement signals...\")\n",
    "\n",
    "#     while True:\n",
    "#         client_socket, addr = server_socket.accept()\n",
    "#         #print(f\"Connection from {addr} established.\")\n",
    "\n",
    "#         data = client_socket.recv(1024).decode('utf-8')\n",
    "\n",
    "#         if data in [MOVE_LEFT, MOVE_RIGHT, DISPLAY_GRAY]:\n",
    "#             mode = data\n",
    "#             #print(f\"Received signal: {mode}\")\n",
    "\n",
    "#         client_socket.close()\n",
    "\n",
    "def zmq_server(port):\n",
    "    global mode\n",
    "\n",
    "    context = zmq.Context()\n",
    "    socket = context.socket(zmq.REP)\n",
    "    # socket.bind(\"ipc://zmq_viz\")\n",
    "    socket.bind(\"tcp://*:5555\")\n",
    "    print(\"server runs\")\n",
    "    #print(f\"Server listening on port {port}. Waiting for movement signals...\")\n",
    "\n",
    "    while True:\n",
    "        data = socket.recv_string()\n",
    "\n",
    "        if data in [MOVE_LEFT, MOVE_RIGHT, DISPLAY_GRAY]:\n",
    "            mode = data\n",
    "            print(\"Received signal: \"+mode)\n",
    "            socket.send_string(\"ack\")\n",
    "        if data =='INIT':      \n",
    "            print(\"Received signal: \"+data)\n",
    "            socket.send_string(\"ack INIT\")\n",
    "        if data =='off':      \n",
    "            print(\"Received signal: \"+data)\n",
    "            socket.send_string(\"ack\")\n",
    "        else:\n",
    "            print(\"Received signal: \"+data)\n",
    "        \n",
    "        "
   ]
  },
  {
   "cell_type": "code",
   "execution_count": 4,
   "id": "9e54cb40-8a1c-4ebd-a291-70b62e10eafa",
   "metadata": {},
   "outputs": [
    {
     "name": "stdout",
     "output_type": "stream",
     "text": [
      "server runs\n"
     ]
    },
    {
     "ename": "KeyboardInterrupt",
     "evalue": "",
     "output_type": "error",
     "traceback": [
      "\u001b[0;31m---------------------------------------------------------------------------\u001b[0m",
      "\u001b[0;31mKeyboardInterrupt\u001b[0m                         Traceback (most recent call last)",
      "\u001b[0;32m<ipython-input-4-b2ad2bb1029f>\u001b[0m in \u001b[0;36m<module>\u001b[0;34m()\u001b[0m\n\u001b[1;32m    113\u001b[0m \u001b[0;34m\u001b[0m\u001b[0m\n\u001b[1;32m    114\u001b[0m \u001b[0;32mif\u001b[0m \u001b[0m__name__\u001b[0m \u001b[0;34m==\u001b[0m \u001b[0;34m'__main__'\u001b[0m\u001b[0;34m:\u001b[0m\u001b[0;34m\u001b[0m\u001b[0m\n\u001b[0;32m--> 115\u001b[0;31m     \u001b[0mmain\u001b[0m\u001b[0;34m(\u001b[0m\u001b[0;34m)\u001b[0m\u001b[0;34m\u001b[0m\u001b[0m\n\u001b[0m\u001b[1;32m    116\u001b[0m \u001b[0;34m\u001b[0m\u001b[0m\n\u001b[1;32m    117\u001b[0m \u001b[0;34m\u001b[0m\u001b[0m\n",
      "\u001b[0;32m<ipython-input-4-b2ad2bb1029f>\u001b[0m in \u001b[0;36mmain\u001b[0;34m()\u001b[0m\n\u001b[1;32m     99\u001b[0m     \u001b[0mzmq_thread\u001b[0m\u001b[0;34m.\u001b[0m\u001b[0mstart\u001b[0m\u001b[0;34m(\u001b[0m\u001b[0;34m)\u001b[0m\u001b[0;34m\u001b[0m\u001b[0m\n\u001b[1;32m    100\u001b[0m \u001b[0;34m\u001b[0m\u001b[0m\n\u001b[0;32m--> 101\u001b[0;31m     \u001b[0mdisplay_loop\u001b[0m\u001b[0;34m(\u001b[0m\u001b[0mscreen\u001b[0m\u001b[0;34m,\u001b[0m \u001b[0mscreen_width\u001b[0m\u001b[0;34m,\u001b[0m \u001b[0mscreen_height\u001b[0m\u001b[0;34m,\u001b[0m \u001b[0mspeed\u001b[0m\u001b[0;34m,\u001b[0m \u001b[0mstripe_width\u001b[0m\u001b[0;34m,\u001b[0m \u001b[0mgap_width\u001b[0m\u001b[0;34m)\u001b[0m\u001b[0;34m\u001b[0m\u001b[0m\n\u001b[0m\u001b[1;32m    102\u001b[0m \u001b[0;34m\u001b[0m\u001b[0m\n\u001b[1;32m    103\u001b[0m     \u001b[0mzmq_thread\u001b[0m\u001b[0;34m.\u001b[0m\u001b[0mjoin\u001b[0m\u001b[0;34m(\u001b[0m\u001b[0;34m)\u001b[0m\u001b[0;34m\u001b[0m\u001b[0m\n",
      "\u001b[0;32m<ipython-input-4-b2ad2bb1029f>\u001b[0m in \u001b[0;36mdisplay_loop\u001b[0;34m(screen, screen_width, screen_height, speed, stripe_width, gap_width)\u001b[0m\n\u001b[1;32m     21\u001b[0m         \u001b[0;32melse\u001b[0m\u001b[0;34m:\u001b[0m\u001b[0;34m\u001b[0m\u001b[0m\n\u001b[1;32m     22\u001b[0m             \u001b[0moffset\u001b[0m \u001b[0;34m+=\u001b[0m \u001b[0mspeed\u001b[0m \u001b[0;32mif\u001b[0m \u001b[0mmode\u001b[0m \u001b[0;34m==\u001b[0m \u001b[0mMOVE_RIGHT\u001b[0m \u001b[0;32melse\u001b[0m \u001b[0;34m-\u001b[0m\u001b[0mspeed\u001b[0m\u001b[0;34m\u001b[0m\u001b[0m\n\u001b[0;32m---> 23\u001b[0;31m             \u001b[0mdraw_moving_stripes\u001b[0m\u001b[0;34m(\u001b[0m\u001b[0mscreen\u001b[0m\u001b[0;34m,\u001b[0m \u001b[0mscreen_width\u001b[0m\u001b[0;34m,\u001b[0m \u001b[0mscreen_height\u001b[0m\u001b[0;34m,\u001b[0m \u001b[0moffset\u001b[0m\u001b[0;34m,\u001b[0m \u001b[0mstripe_width\u001b[0m\u001b[0;34m,\u001b[0m \u001b[0mgap_width\u001b[0m\u001b[0;34m)\u001b[0m\u001b[0;34m\u001b[0m\u001b[0m\n\u001b[0m\u001b[1;32m     24\u001b[0m \u001b[0;34m\u001b[0m\u001b[0m\n\u001b[1;32m     25\u001b[0m         \u001b[0mpygame\u001b[0m\u001b[0;34m.\u001b[0m\u001b[0mdisplay\u001b[0m\u001b[0;34m.\u001b[0m\u001b[0mflip\u001b[0m\u001b[0;34m(\u001b[0m\u001b[0;34m)\u001b[0m\u001b[0;34m\u001b[0m\u001b[0m\n",
      "\u001b[0;32m<ipython-input-4-b2ad2bb1029f>\u001b[0m in \u001b[0;36mdraw_moving_stripes\u001b[0;34m(screen, screen_width, screen_height, offset, stripe_width, gap_width)\u001b[0m\n\u001b[1;32m     31\u001b[0m \u001b[0;34m\u001b[0m\u001b[0m\n\u001b[1;32m     32\u001b[0m     \u001b[0;32mfor\u001b[0m \u001b[0mx\u001b[0m \u001b[0;32min\u001b[0m \u001b[0mrange\u001b[0m\u001b[0;34m(\u001b[0m\u001b[0mint\u001b[0m\u001b[0;34m(\u001b[0m\u001b[0moffset\u001b[0m \u001b[0;34m%\u001b[0m \u001b[0mtotal_width\u001b[0m \u001b[0;34m-\u001b[0m \u001b[0mtotal_width\u001b[0m\u001b[0;34m)\u001b[0m \u001b[0;34m+\u001b[0m \u001b[0mint\u001b[0m\u001b[0;34m(\u001b[0m\u001b[0mnp\u001b[0m\u001b[0;34m.\u001b[0m\u001b[0mfloor\u001b[0m\u001b[0;34m(\u001b[0m\u001b[0mscreen_width\u001b[0m\u001b[0;34m/\u001b[0m\u001b[0;36m8\u001b[0m\u001b[0;34m)\u001b[0m\u001b[0;34m)\u001b[0m\u001b[0;34m,\u001b[0m \u001b[0mint\u001b[0m\u001b[0;34m(\u001b[0m\u001b[0mnp\u001b[0m\u001b[0;34m.\u001b[0m\u001b[0mfloor\u001b[0m\u001b[0;34m(\u001b[0m\u001b[0;36m7\u001b[0m\u001b[0;34m*\u001b[0m\u001b[0mscreen_width\u001b[0m\u001b[0;34m/\u001b[0m\u001b[0;36m8\u001b[0m\u001b[0;34m)\u001b[0m\u001b[0;34m)\u001b[0m\u001b[0;34m,\u001b[0m \u001b[0mtotal_width\u001b[0m\u001b[0;34m)\u001b[0m\u001b[0;34m:\u001b[0m\u001b[0;34m\u001b[0m\u001b[0m\n\u001b[0;32m---> 33\u001b[0;31m         \u001b[0mpygame\u001b[0m\u001b[0;34m.\u001b[0m\u001b[0mdraw\u001b[0m\u001b[0;34m.\u001b[0m\u001b[0mrect\u001b[0m\u001b[0;34m(\u001b[0m\u001b[0mscreen\u001b[0m\u001b[0;34m,\u001b[0m \u001b[0mstripe_color\u001b[0m\u001b[0;34m,\u001b[0m \u001b[0;34m(\u001b[0m\u001b[0mx\u001b[0m\u001b[0;34m,\u001b[0m \u001b[0;36m1\u001b[0m\u001b[0;34m*\u001b[0m\u001b[0mscreen_height\u001b[0m\u001b[0;34m/\u001b[0m\u001b[0;36m8\u001b[0m\u001b[0;34m,\u001b[0m \u001b[0mstripe_width\u001b[0m\u001b[0;34m,\u001b[0m \u001b[0;36m5\u001b[0m\u001b[0;34m*\u001b[0m\u001b[0mscreen_height\u001b[0m\u001b[0;34m/\u001b[0m\u001b[0;36m8\u001b[0m\u001b[0;34m)\u001b[0m\u001b[0;34m)\u001b[0m\u001b[0;34m\u001b[0m\u001b[0m\n\u001b[0m\u001b[1;32m     34\u001b[0m \u001b[0;34m\u001b[0m\u001b[0m\n\u001b[1;32m     35\u001b[0m \u001b[0;31m# def socket_server(port):\u001b[0m\u001b[0;34m\u001b[0m\u001b[0;34m\u001b[0m\u001b[0m\n",
      "\u001b[0;31mKeyboardInterrupt\u001b[0m: "
     ]
    }
   ],
   "source": [
    "\n",
    "def main():\n",
    "    screen_width, screen_height = 1920, 1200\n",
    "    # screen_width, screen_height = 1920, 1200\n",
    "    pygame.init()\n",
    "\n",
    "    os.environ['SDL_VIDEO_FULLSCREEN_DISPLAY'] = '0'\n",
    "    screen = pygame.display.set_mode((screen_width, screen_height))\n",
    "    pygame.display.set_caption('Moving Stripes')\n",
    "\n",
    "    speed = 0\n",
    "    stripe_width = 10\n",
    "    gap_width = 10\n",
    "\n",
    "    port = 8888\n",
    "\n",
    "    zmq_thread = threading.Thread(target=zmq_server, args=(port,))\n",
    "    zmq_thread.start()\n",
    "\n",
    "    display_loop(screen, screen_width, screen_height, speed, stripe_width, gap_width)\n",
    "\n",
    "    zmq_thread.join()\n",
    "    \n",
    "#     socket_thread = threading.Thread(target=socket_server, args=(port,))\n",
    "#     socket_thread.start()\n",
    "\n",
    "#     display_loop(screen, screen_width, screen_height, speed, stripe_width, gap_width)\n",
    "\n",
    "#     socket_thread.join()\n",
    "    pygame.quit()\n",
    "    \n",
    "    \n",
    "if __name__ == '__main__':\n",
    "    main()\n",
    "\n",
    "\n",
    "\n"
   ]
  },
  {
   "cell_type": "code",
   "execution_count": 3,
   "id": "c5481262-e0bf-469f-9e63-0efb0161e3ae",
   "metadata": {},
   "outputs": [],
   "source": [
    "screen_width, screen_height = 1920, 1200\n",
    "# screen_width, screen_height = 1920, 1200\n",
    "pygame.init()\n",
    "\n",
    "os.environ['SDL_VIDEO_FULLSCREEN_DISPLAY'] = '0'\n",
    "screen = pygame.display.set_mode((screen_width, screen_height))"
   ]
  },
  {
   "cell_type": "code",
   "execution_count": 4,
   "id": "14c5ba5d-66e7-4229-a598-25ce85deaab9",
   "metadata": {},
   "outputs": [],
   "source": [
    "speed = 0\n",
    "stripe_width = 10\n",
    "gap_width = 10\n",
    "offset = 0\n",
    "draw_moving_stripes(screen, screen_width, screen_height, offset, stripe_width, gap_width)"
   ]
  },
  {
   "cell_type": "code",
   "execution_count": 5,
   "id": "58d1831a-7641-46de-9008-52725e1e663a",
   "metadata": {},
   "outputs": [],
   "source": [
    "surface_str = pygame.image.tostring(screen, 'RGB')\n",
    "\n",
    "# Convert the string buffer to a NumPy array\n",
    "surface_array = np.frombuffer(surface_str, dtype=np.uint8)\n",
    "surface_array = surface_array.reshape((screen_height, screen_width, 3))  # RGB means 3 channels\n",
    "\n",
    "# # Print the NumPy array\n",
    "# print(surface_array)"
   ]
  },
  {
   "cell_type": "code",
   "execution_count": 6,
   "id": "a758aca1-1378-4730-b2a0-316041de9f10",
   "metadata": {},
   "outputs": [
    {
     "data": {
      "text/plain": [
       "<matplotlib.image.AxesImage at 0x7a47dcfe3550>"
      ]
     },
     "execution_count": 6,
     "metadata": {},
     "output_type": "execute_result"
    },
    {
     "data": {
      "image/png": "[encoded data removed]",
      "text/plain": [
       "<Figure size 432x288 with 1 Axes>"
      ]
     },
     "metadata": {
      "needs_background": "light"
     },
     "output_type": "display_data"
    }
   ],
   "source": [
    "plt.imshow(surface_array)"
   ]
  },
  {
   "cell_type": "code",
   "execution_count": 7,
   "id": "ba200e08-2b44-4591-bf30-f63b741027c1",
   "metadata": {},
   "outputs": [],
   "source": [
    "import h5py\n",
    "\n",
    "h = h5py.File('surface_array.h5', 'w')\n",
    "dset = h.create_dataset('data', data=surface_array)\n",
    "h.close()"
   ]
  },
  {
   "cell_type": "code",
   "execution_count": null,
   "id": "7a116bef-df92-473b-ae34-b8119d1ace2f",
   "metadata": {},
   "outputs": [],
   "source": []
  }
 ],
 "metadata": {
  "kernelspec": {
   "display_name": "projector",
   "language": "python",
   "name": "projector"
  },
  "language_info": {
   "codemirror_mode": {
    "name": "ipython",
    "version": 3
   },
   "file_extension": ".py",
   "mimetype": "text/x-python",
   "name": "python",
   "nbconvert_exporter": "python",
   "pygments_lexer": "ipython3",
   "version": "3.5.6"
  }
 },
 "nbformat": 4,
 "nbformat_minor": 5
}
