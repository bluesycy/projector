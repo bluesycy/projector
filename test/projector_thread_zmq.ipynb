{
 "cells": [
  {
   "cell_type": "code",
   "execution_count": 2,
   "id": "b6b33e09-b5bd-4a5e-a105-8147b935835c",
   "metadata": {},
   "outputs": [],
   "source": [
    "import pygame\n",
    "import zmq\n",
    "import os\n",
    "import threading\n"
   ]
  },
  {
   "cell_type": "code",
   "execution_count": 1,
   "id": "317bd4ee-779a-4196-b346-4822b4cf7cc4",
   "metadata": {},
   "outputs": [
    {
     "data": {
      "text/plain": [
       "'/home/chuyu/miniconda3/envs/projector/bin/python'"
      ]
     },
     "execution_count": 1,
     "metadata": {},
     "output_type": "execute_result"
    }
   ],
   "source": [
    "import sys\n",
    "sys.executable"
   ]
  },
  {
   "cell_type": "code",
   "execution_count": 3,
   "id": "c542ffa2-4543-4bbd-aced-3100ecbee51d",
   "metadata": {},
   "outputs": [
    {
     "name": "stdout",
     "output_type": "stream",
     "text": [
      "server runs\n"
     ]
    },
    {
     "ename": "KeyboardInterrupt",
     "evalue": "",
     "output_type": "error",
     "traceback": [
      "\u001b[0;31m---------------------------------------------------------------------------\u001b[0m",
      "\u001b[0;31mKeyboardInterrupt\u001b[0m                         Traceback (most recent call last)",
      "\u001b[0;32m<ipython-input-3-fe0c9e33277f>\u001b[0m in \u001b[0;36m<module>\u001b[0;34m()\u001b[0m\n\u001b[1;32m    118\u001b[0m \u001b[0;34m\u001b[0m\u001b[0m\n\u001b[1;32m    119\u001b[0m \u001b[0;32mif\u001b[0m \u001b[0m__name__\u001b[0m \u001b[0;34m==\u001b[0m \u001b[0;34m'__main__'\u001b[0m\u001b[0;34m:\u001b[0m\u001b[0;34m\u001b[0m\u001b[0m\n\u001b[0;32m--> 120\u001b[0;31m     \u001b[0mmain\u001b[0m\u001b[0;34m(\u001b[0m\u001b[0;34m)\u001b[0m\u001b[0;34m\u001b[0m\u001b[0m\n\u001b[0m\u001b[1;32m    121\u001b[0m \u001b[0;34m\u001b[0m\u001b[0m\n\u001b[1;32m    122\u001b[0m \u001b[0;34m\u001b[0m\u001b[0m\n",
      "\u001b[0;32m<ipython-input-3-fe0c9e33277f>\u001b[0m in \u001b[0;36mmain\u001b[0;34m()\u001b[0m\n\u001b[1;32m    104\u001b[0m     \u001b[0mzmq_thread\u001b[0m\u001b[0;34m.\u001b[0m\u001b[0mstart\u001b[0m\u001b[0;34m(\u001b[0m\u001b[0;34m)\u001b[0m\u001b[0;34m\u001b[0m\u001b[0m\n\u001b[1;32m    105\u001b[0m \u001b[0;34m\u001b[0m\u001b[0m\n\u001b[0;32m--> 106\u001b[0;31m     \u001b[0mdisplay_loop\u001b[0m\u001b[0;34m(\u001b[0m\u001b[0mscreen\u001b[0m\u001b[0;34m,\u001b[0m \u001b[0mscreen_width\u001b[0m\u001b[0;34m,\u001b[0m \u001b[0mscreen_height\u001b[0m\u001b[0;34m,\u001b[0m \u001b[0mspeed\u001b[0m\u001b[0;34m,\u001b[0m \u001b[0mstripe_width\u001b[0m\u001b[0;34m,\u001b[0m \u001b[0mgap_width\u001b[0m\u001b[0;34m)\u001b[0m\u001b[0;34m\u001b[0m\u001b[0m\n\u001b[0m\u001b[1;32m    107\u001b[0m \u001b[0;34m\u001b[0m\u001b[0m\n\u001b[1;32m    108\u001b[0m     \u001b[0mzmq_thread\u001b[0m\u001b[0;34m.\u001b[0m\u001b[0mjoin\u001b[0m\u001b[0;34m(\u001b[0m\u001b[0;34m)\u001b[0m\u001b[0;34m\u001b[0m\u001b[0m\n",
      "\u001b[0;32m<ipython-input-3-fe0c9e33277f>\u001b[0m in \u001b[0;36mdisplay_loop\u001b[0;34m(screen, screen_width, screen_height, speed, stripe_width, gap_width)\u001b[0m\n\u001b[1;32m     29\u001b[0m             \u001b[0mdraw_moving_stripes\u001b[0m\u001b[0;34m(\u001b[0m\u001b[0mscreen\u001b[0m\u001b[0;34m,\u001b[0m \u001b[0mscreen_width\u001b[0m\u001b[0;34m,\u001b[0m \u001b[0mscreen_height\u001b[0m\u001b[0;34m,\u001b[0m \u001b[0moffset\u001b[0m\u001b[0;34m,\u001b[0m \u001b[0mstripe_width\u001b[0m\u001b[0;34m,\u001b[0m \u001b[0mgap_width\u001b[0m\u001b[0;34m)\u001b[0m\u001b[0;34m\u001b[0m\u001b[0m\n\u001b[1;32m     30\u001b[0m \u001b[0;34m\u001b[0m\u001b[0m\n\u001b[0;32m---> 31\u001b[0;31m         \u001b[0mpygame\u001b[0m\u001b[0;34m.\u001b[0m\u001b[0mdisplay\u001b[0m\u001b[0;34m.\u001b[0m\u001b[0mflip\u001b[0m\u001b[0;34m(\u001b[0m\u001b[0;34m)\u001b[0m\u001b[0;34m\u001b[0m\u001b[0m\n\u001b[0m\u001b[1;32m     32\u001b[0m \u001b[0;34m\u001b[0m\u001b[0m\n\u001b[1;32m     33\u001b[0m \u001b[0;32mdef\u001b[0m \u001b[0mdraw_moving_stripes\u001b[0m\u001b[0;34m(\u001b[0m\u001b[0mscreen\u001b[0m\u001b[0;34m,\u001b[0m \u001b[0mscreen_width\u001b[0m\u001b[0;34m,\u001b[0m \u001b[0mscreen_height\u001b[0m\u001b[0;34m,\u001b[0m \u001b[0moffset\u001b[0m\u001b[0;34m,\u001b[0m \u001b[0mstripe_width\u001b[0m\u001b[0;34m,\u001b[0m \u001b[0mgap_width\u001b[0m\u001b[0;34m)\u001b[0m\u001b[0;34m:\u001b[0m\u001b[0;34m\u001b[0m\u001b[0m\n",
      "\u001b[0;31mKeyboardInterrupt\u001b[0m: "
     ]
    }
   ],
   "source": [
    "\n",
    "MOVE_LEFT = \"omrl\"\n",
    "MOVE_RIGHT = \"omrr\"\n",
    "DISPLAY_GRAY = \"gray50\"\n",
    "\n",
    "mode = MOVE_LEFT\n",
    "\n",
    "def process_event(event):\n",
    "    if event.type == pygame.KEYDOWN:\n",
    "        if event.key == pygame.K_ESCAPE:\n",
    "            return False\n",
    "    elif event.type == pygame.QUIT:\n",
    "        return False\n",
    "    return True\n",
    "\n",
    "def display_loop(screen, screen_width, screen_height, speed, stripe_width, gap_width):\n",
    "    global mode\n",
    "    offset = 0\n",
    "\n",
    "    while True:\n",
    "        for event in pygame.event.get():\n",
    "            if not process_event(event):\n",
    "                return\n",
    "\n",
    "        if mode == DISPLAY_GRAY:\n",
    "            screen.fill((128, 128, 128))\n",
    "        else:\n",
    "            offset += speed if mode == MOVE_RIGHT else -speed\n",
    "            draw_moving_stripes(screen, screen_width, screen_height, offset, stripe_width, gap_width)\n",
    "\n",
    "        pygame.display.flip()\n",
    "\n",
    "def draw_moving_stripes(screen, screen_width, screen_height, offset, stripe_width, gap_width):\n",
    "    screen.fill((255, 255, 255))\n",
    "    stripe_color = (0, 0, 0)\n",
    "    total_width = stripe_width + gap_width\n",
    "\n",
    "    for x in range(int(offset % total_width - total_width), screen_width, total_width):\n",
    "        pygame.draw.rect(screen, stripe_color, (x, 0, stripe_width, screen_height))\n",
    "\n",
    "# def socket_server(port):\n",
    "#     global mode\n",
    "\n",
    "#     server_socket = socket.socket(socket.AF_INET, socket.SOCK_STREAM)\n",
    "#     server_socket.bind(('', port))\n",
    "#     server_socket.listen(1)\n",
    "\n",
    "#     #print(f\"Server listening on port {port}. Waiting for movement signals...\")\n",
    "\n",
    "#     while True:\n",
    "#         client_socket, addr = server_socket.accept()\n",
    "#         #print(f\"Connection from {addr} established.\")\n",
    "\n",
    "#         data = client_socket.recv(1024).decode('utf-8')\n",
    "\n",
    "#         if data in [MOVE_LEFT, MOVE_RIGHT, DISPLAY_GRAY]:\n",
    "#             mode = data\n",
    "#             #print(f\"Received signal: {mode}\")\n",
    "\n",
    "#         client_socket.close()\n",
    "\n",
    "def zmq_server(port):\n",
    "    global mode\n",
    "\n",
    "    context = zmq.Context()\n",
    "    socket = context.socket(zmq.REP)\n",
    "    # socket.bind(\"ipc://zmq_viz\")\n",
    "    socket.bind(\"tcp://*:5555\")\n",
    "    print(\"server runs\")\n",
    "    #print(f\"Server listening on port {port}. Waiting for movement signals...\")\n",
    "\n",
    "    while True:\n",
    "        data = socket.recv_string()\n",
    "\n",
    "        if data in [MOVE_LEFT, MOVE_RIGHT, DISPLAY_GRAY]:\n",
    "            mode = data\n",
    "            print(\"Received signal: \"+mode)\n",
    "            socket.send_string(\"ack\")\n",
    "        if data =='INIT':      \n",
    "            print(\"Received signal: \"+data)\n",
    "            socket.send_string(\"ack INIT\")\n",
    "        if data =='off':      \n",
    "            print(\"Received signal: \"+data)\n",
    "            socket.send_string(\"ack\")\n",
    "        else:\n",
    "            print(\"Received signal: \"+data)\n",
    "        \n",
    "        \n",
    "def main():\n",
    "    screen_width, screen_height = 1920, 1200\n",
    "    pygame.init()\n",
    "\n",
    "    os.environ['SDL_VIDEO_FULLSCREEN_DISPLAY'] = '0'\n",
    "    screen = pygame.display.set_mode((screen_width, screen_height))\n",
    "    pygame.display.set_caption('Moving Stripes')\n",
    "\n",
    "    speed = 0.7\n",
    "    stripe_width = 20\n",
    "    gap_width = 20\n",
    "\n",
    "    port = 8888\n",
    "\n",
    "    zmq_thread = threading.Thread(target=zmq_server, args=(port,))\n",
    "    zmq_thread.start()\n",
    "\n",
    "    display_loop(screen, screen_width, screen_height, speed, stripe_width, gap_width)\n",
    "\n",
    "    zmq_thread.join()\n",
    "    \n",
    "#     socket_thread = threading.Thread(target=socket_server, args=(port,))\n",
    "#     socket_thread.start()\n",
    "\n",
    "#     display_loop(screen, screen_width, screen_height, speed, stripe_width, gap_width)\n",
    "\n",
    "#     socket_thread.join()\n",
    "    pygame.quit()\n",
    "    \n",
    "    \n",
    "if __name__ == '__main__':\n",
    "    main()\n",
    "\n",
    "\n",
    "\n"
   ]
  },
  {
   "cell_type": "code",
   "execution_count": null,
   "id": "705b9c01-a604-4f7d-b980-3c1959b32cd2",
   "metadata": {},
   "outputs": [],
   "source": []
  }
 ],
 "metadata": {
  "kernelspec": {
   "display_name": "projector",
   "language": "python",
   "name": "projector"
  },
  "language_info": {
   "codemirror_mode": {
    "name": "ipython",
    "version": 3
   },
   "file_extension": ".py",
   "mimetype": "text/x-python",
   "name": "python",
   "nbconvert_exporter": "python",
   "pygments_lexer": "ipython3",
   "version": "3.5.6"
  }
 },
 "nbformat": 4,
 "nbformat_minor": 5
}
