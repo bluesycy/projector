{
 "cells": [
  {
   "cell_type": "code",
   "execution_count": 1,
   "id": "f342ae7c-4537-4e5f-be4c-aaeb3a21b7c3",
   "metadata": {},
   "outputs": [
    {
     "name": "stdout",
     "output_type": "stream",
     "text": [
      "pygame 2.5.2 (SDL 2.28.2, Python 3.9.18)\n",
      "Hello from the pygame community. https://www.pygame.org/contribute.html\n"
     ]
    }
   ],
   "source": [
    "import pygame\n",
    "import zmq\n",
    "import os\n",
    "import threading\n",
    "import numpy as np\n",
    "import matplotlib.pyplot as plt"
   ]
  },
  {
   "cell_type": "code",
   "execution_count": 2,
   "id": "0d0c519b-9ac0-4c3b-83d9-0504401f16f1",
   "metadata": {},
   "outputs": [],
   "source": [
    "\n",
    "def process_event(event):\n",
    "    if event.type == pygame.KEYDOWN:\n",
    "        if event.key == pygame.K_ESCAPE:\n",
    "            return False\n",
    "    elif event.type == pygame.QUIT:\n",
    "        return False\n",
    "    return True\n",
    "\n",
    "def display_loop(screen, screen_width, screen_height, speed, stripe_width, gap_width):\n",
    "    global mode\n",
    "    offset = 0\n",
    "\n",
    "    while True:\n",
    "        for event in pygame.event.get():\n",
    "            if not process_event(event):\n",
    "                return\n",
    "\n",
    "        if mode == DISPLAY_GRAY:\n",
    "            screen.fill((128, 128, 128))\n",
    "        else:\n",
    "            offset += speed if mode == MOVE_RIGHT else -speed\n",
    "            draw_moving_stripes(screen, screen_width, screen_height, offset, stripe_width, gap_width)\n",
    "\n",
    "        pygame.display.flip()\n",
    "\n",
    "def draw_moving_stripes(screen, screen_width, screen_height, offset, stripe_width, gap_width):\n",
    "    screen.fill((255, 255, 255))\n",
    "    stripe_color = (0, 0, 0)\n",
    "    total_width = stripe_width + gap_width\n",
    "\n",
    "    for x in range(int(offset % total_width - total_width) + int(np.floor(screen_width/8)), int(np.floor(7*screen_width/8)), total_width):\n",
    "        pygame.draw.rect(screen, stripe_color, (x, 1*screen_height/8, stripe_width, 5*screen_height/8))\n",
    "\n",
    "# def socket_server(port):\n",
    "#     global mode\n",
    "\n",
    "#     server_socket = socket.socket(socket.AF_INET, socket.SOCK_STREAM)\n",
    "#     server_socket.bind(('', port))\n",
    "#     server_socket.listen(1)\n",
    "\n",
    "#     #print(f\"Server listening on port {port}. Waiting for movement signals...\")\n",
    "\n",
    "#     while True:\n",
    "#         client_socket, addr = server_socket.accept()\n",
    "#         #print(f\"Connection from {addr} established.\")\n",
    "\n",
    "#         data = client_socket.recv(1024).decode('utf-8')\n",
    "\n",
    "#         if data in [MOVE_LEFT, MOVE_RIGHT, DISPLAY_GRAY]:\n",
    "#             mode = data\n",
    "#             #print(f\"Received signal: {mode}\")\n",
    "\n",
    "#         client_socket.close()\n",
    "\n",
    "def zmq_server(port):\n",
    "    global mode\n",
    "\n",
    "    context = zmq.Context()\n",
    "    socket = context.socket(zmq.REP)\n",
    "    # socket.bind(\"ipc://zmq_viz\")\n",
    "    socket.bind(\"tcp://*:5555\")\n",
    "    print(\"server runs\")\n",
    "    #print(f\"Server listening on port {port}. Waiting for movement signals...\")\n",
    "\n",
    "    while True:\n",
    "        data = socket.recv_string()\n",
    "\n",
    "        if data in [MOVE_LEFT, MOVE_RIGHT, DISPLAY_GRAY]:\n",
    "            mode = data\n",
    "            print(\"Received signal: \"+mode)\n",
    "            socket.send_string(\"ack\")\n",
    "        if data =='INIT':      \n",
    "            print(\"Received signal: \"+data)\n",
    "            socket.send_string(\"ack INIT\")\n",
    "        if data =='off':      \n",
    "            print(\"Received signal: \"+data)\n",
    "            socket.send_string(\"ack\")\n",
    "        else:\n",
    "            print(\"Received signal: \"+data)\n",
    "        \n",
    "        "
   ]
  },
  {
   "cell_type": "code",
   "execution_count": 3,
   "id": "c5481262-e0bf-469f-9e63-0efb0161e3ae",
   "metadata": {},
   "outputs": [
    {
     "name": "stderr",
     "output_type": "stream",
     "text": [
      "ALSA lib confmisc.c:855:(parse_card) cannot find card '0'\n",
      "ALSA lib conf.c:5204:(_snd_config_evaluate) function snd_func_card_inum returned error: No such file or directory\n",
      "ALSA lib confmisc.c:422:(snd_func_concat) error evaluating strings\n",
      "ALSA lib conf.c:5204:(_snd_config_evaluate) function snd_func_concat returned error: No such file or directory\n",
      "ALSA lib confmisc.c:1342:(snd_func_refer) error evaluating name\n",
      "ALSA lib conf.c:5204:(_snd_config_evaluate) function snd_func_refer returned error: No such file or directory\n",
      "ALSA lib conf.c:5727:(snd_config_expand) Evaluate error: No such file or directory\n",
      "ALSA lib pcm.c:2721:(snd_pcm_open_noupdate) Unknown PCM default\n"
     ]
    }
   ],
   "source": [
    "screen_width, screen_height = 1920, 1080\n",
    "# screen_width, screen_height = 1920, 1200\n",
    "pygame.init()\n",
    "\n",
    "os.environ['SDL_VIDEO_FULLSCREEN_DISPLAY'] = '0'\n",
    "screen = pygame.display.set_mode((screen_width, screen_height))"
   ]
  },
  {
   "cell_type": "code",
   "execution_count": 4,
   "id": "14c5ba5d-66e7-4229-a598-25ce85deaab9",
   "metadata": {},
   "outputs": [],
   "source": [
    "speed = 0\n",
    "stripe_width = 10\n",
    "gap_width = 10\n",
    "offset = 0\n",
    "draw_moving_stripes(screen, screen_width, screen_height, offset, stripe_width, gap_width)"
   ]
  },
  {
   "cell_type": "code",
   "execution_count": 5,
   "id": "58d1831a-7641-46de-9008-52725e1e663a",
   "metadata": {},
   "outputs": [],
   "source": [
    "surface_str = pygame.image.tostring(screen, 'RGB')\n",
    "\n",
    "# Convert the string buffer to a NumPy array\n",
    "surface_array = np.frombuffer(surface_str, dtype=np.uint8)\n",
    "surface_array = surface_array.reshape((screen_height, screen_width, 3))  # RGB means 3 channels\n",
    "\n",
    "# # Print the NumPy array\n",
    "# print(surface_array)"
   ]
  },
  {
   "cell_type": "code",
   "execution_count": 6,
   "id": "a758aca1-1378-4730-b2a0-316041de9f10",
   "metadata": {},
   "outputs": [
    {
     "data": {
      "text/plain": [
       "<matplotlib.image.AxesImage at 0x7a3058178c40>"
      ]
     },
     "execution_count": 6,
     "metadata": {},
     "output_type": "execute_result"
    },
    {
     "data": {
      "image/png": "[encoded data removed]",
      "text/plain": [
       "<Figure size 640x480 with 1 Axes>"
      ]
     },
     "metadata": {},
     "output_type": "display_data"
    }
   ],
   "source": [
    "plt.imshow(surface_array)"
   ]
  },
  {
   "cell_type": "code",
   "execution_count": 7,
   "id": "ba200e08-2b44-4591-bf30-f63b741027c1",
   "metadata": {},
   "outputs": [],
   "source": [
    "import h5py\n",
    "\n",
    "h = h5py.File('../data/surface_array_1920_1080.h5', 'w')\n",
    "dset = h.create_dataset('data', data=surface_array)\n",
    "h.close()"
   ]
  },
  {
   "cell_type": "code",
   "execution_count": 10,
   "id": "7a116bef-df92-473b-ae34-b8119d1ace2f",
   "metadata": {},
   "outputs": [],
   "source": [
    "np.save('../data/image_dmd.npy', surface_array.astype(np.uint8))"
   ]
  },
  {
   "cell_type": "code",
   "execution_count": null,
   "id": "b41d0cd4-23eb-4237-83d6-f3798182ee5d",
   "metadata": {},
   "outputs": [],
   "source": []
  }
 ],
 "metadata": {
  "kernelspec": {
   "display_name": "py_regular",
   "language": "python",
   "name": "py_regular"
  },
  "language_info": {
   "codemirror_mode": {
    "name": "ipython",
    "version": 3
   },
   "file_extension": ".py",
   "mimetype": "text/x-python",
   "name": "python",
   "nbconvert_exporter": "python",
   "pygments_lexer": "ipython3",
   "version": "3.9.18"
  }
 },
 "nbformat": 4,
 "nbformat_minor": 5
}
